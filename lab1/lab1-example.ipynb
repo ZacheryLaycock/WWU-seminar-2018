{
 "cells": [
  {
   "cell_type": "markdown",
   "metadata": {},
   "source": [
    "# Lab 1: Tools of the trade\n",
    "\n",
    "## Markdown Cells\n",
    "\n",
    "This is a [Markdown](https://en.wikipedia.org/wiki/Markdown) cell. You can use them to write *nicely* formatted text, describing what you are doing in the Jupyter notebook.\n",
    "\n",
    "- step 1: do thing 1\n",
    "- step 2: do thing 2, of course\n",
    "    - step 2b: a finer point\n"
   ]
  },
  {
   "cell_type": "code",
   "execution_count": null,
   "metadata": {
    "collapsed": false
   },
   "outputs": [],
   "source": [
    "''' \n",
    "Let's import the Python modules we'll need for this example!\n",
    "This normally goes at the top of your script or notebook, so that all code below it can see these packages.\n",
    "\n",
    "\n",
    "By the way, the triple-quotes give you blocks of comments. Useful for commenting out large chunks of things\n",
    "'''\n",
    "# while the pound (or hash) symbol just comments things on the same line\n",
    "\n",
    "# some magic to make plots appear IN the notebook (not pop out like normal matplotlib)\n",
    "%matplotlib inline \n",
    "\n",
    "import numpy as np # our basic math/numbers library\n",
    "import matplotlib.pyplot as plt # the standard plotting package\n",
    "import pandas as pd # PANDAS: a data science and analysis package we'll use all Quarter!!"
   ]
  },
  {
   "cell_type": "code",
   "execution_count": null,
   "metadata": {
    "collapsed": false
   },
   "outputs": [],
   "source": [
    "# Let's read some data in!\n",
    "\n",
    "# file from: http://ds.iris.edu/ds/products/emc-prem/\n",
    "# based on Dziewonski & Anderson (1981) http://adsabs.harvard.edu/abs/1981PEPI...25..297D\n",
    "\n",
    "file = 'PREM_1s.csv'\n",
    "\n",
    "# use Pandas to read the CSV file. This is the easiest case scenario, a nicely formatted file!\n",
    "# we read this into a Pandas \"Dataframe\" (basically a spreadsheet)\n",
    "df = pd.read_csv(file)"
   ]
  },
  {
   "cell_type": "code",
   "execution_count": null,
   "metadata": {
    "collapsed": false
   },
   "outputs": [],
   "source": [
    "# the notebook knows how to make the dataframe look nice:\n",
    "df"
   ]
  },
  {
   "cell_type": "code",
   "execution_count": null,
   "metadata": {
    "collapsed": false,
    "scrolled": true
   },
   "outputs": [],
   "source": [
    "# Here is one column of the data, called by name. Handy!\n",
    "df['radius']"
   ]
  },
  {
   "cell_type": "code",
   "execution_count": null,
   "metadata": {
    "collapsed": false
   },
   "outputs": [],
   "source": []
  },
  {
   "cell_type": "code",
   "execution_count": null,
   "metadata": {
    "collapsed": false
   },
   "outputs": [],
   "source": [
    "# Now let's plot some data\n",
    "\n",
    "# note you don't have to say plt.figure(), like normal. But you can if you want...\n",
    "plt.plot(df['radius'], df['density'])\n",
    "\n",
    "plt.xlabel('Radius (km)')\n",
    "plt.ylabel('Density (g/cm$^3$)')\n",
    "\n",
    "# and you don't have to say plt.show() either"
   ]
  },
  {
   "cell_type": "markdown",
   "metadata": {},
   "source": [
    "## Goal:\n",
    "At what radial step do you enclose half of the Earth's mass?\n",
    "\n",
    "We all know the formula for the mass of a sphere:\n",
    "$ M = \\frac{4}{3} \\pi R^3 \\times \\rho $\n",
    "\n",
    "Note that the density here is provided in *shells* of radius, so you need to add them as you go.\n",
    "\n",
    "$ M_i = \\frac{4}{3} \\pi (R_{i+1}^3 - R_i^3) \\times \\rho_i $\n"
   ]
  },
  {
   "cell_type": "code",
   "execution_count": null,
   "metadata": {
    "collapsed": false
   },
   "outputs": [],
   "source": [
    "# some beginning thoughts...\n",
    "\n",
    "# create an array of 100 zeros\n",
    "x = np.zeros(100)\n",
    "num = np.arange(0, 100, 1)\n",
    "\n",
    "# loop over these, and save something in each one\n",
    "for i in range(1, 100):\n",
    "    x[i] = i*2 + 5 + x[i-1]"
   ]
  },
  {
   "cell_type": "code",
   "execution_count": null,
   "metadata": {
    "collapsed": false
   },
   "outputs": [],
   "source": [
    "plt.plot(num, x)"
   ]
  },
  {
   "cell_type": "code",
   "execution_count": null,
   "metadata": {
    "collapsed": false
   },
   "outputs": [],
   "source": [
    "z = np.where((x > 8000))\n",
    "\n",
    "plt.figure(figsize=(6,6)) # a handy way to adjust the figure shape/size (units are inches)\n",
    "plt.plot(num, x)\n",
    "plt.scatter(num[z], x[z], c='red', lw=0)"
   ]
  },
  {
   "cell_type": "code",
   "execution_count": null,
   "metadata": {
    "collapsed": true
   },
   "outputs": [],
   "source": []
  }
 ],
 "metadata": {
  "kernelspec": {
   "display_name": "Python 2",
   "language": "python",
   "name": "python2"
  },
  "language_info": {
   "codemirror_mode": {
    "name": "ipython",
    "version": 2
   },
   "file_extension": ".py",
   "mimetype": "text/x-python",
   "name": "python",
   "nbconvert_exporter": "python",
   "pygments_lexer": "ipython2",
   "version": "2.7.13"
  }
 },
 "nbformat": 4,
 "nbformat_minor": 0
}
